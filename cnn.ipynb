{
 "cells": [
  {
   "cell_type": "code",
   "execution_count": 6,
   "metadata": {},
   "outputs": [],
   "source": [
    "import numpy as np\n",
    "import scipy.signal as scp\n",
    "\n",
    "# Chcel by som implementovať ešte max pool, avg pool, dense layer, softmax, sigmoid, cross-entropy"
   ]
  },
  {
   "cell_type": "code",
   "execution_count": 22,
   "metadata": {},
   "outputs": [],
   "source": [
    "class Conv:\n",
    "    def __init__(self, input_shape, kernel_size, kernel_shape = (3, 3), stride = 1, padding = 0) -> None:\n",
    "        input_depth, input_height, input_width = input_shape\n",
    "        self.kernel_size = kernel_size\n",
    "        self.input_shape = input_shape\n",
    "        self.input_depth = input_depth\n",
    "        self.kernel = kernel_shape\n",
    "        self.kernel_shape = (kernel_size, input_depth, *kernel_shape)\n",
    "        self.output_shape = (kernel_size, int((input_height - kernel_shape[0] + 2 * padding) / stride + 1), int((input_width - kernel_shape[0] + 2 * padding) / stride + 1))\n",
    "        self.biases = np.random.rand(*self.output_shape)\n",
    "        self.kernels = np.random.rand(*self.kernel_shape)\n",
    "        self.stride = stride\n",
    "        self.zero_padding = padding\n",
    "        \n",
    "    \n",
    "    def forward(self, input):\n",
    "        self.output = np.copy(self.biases)\n",
    "        \n",
    "        for i in range(self.kernel_size):\n",
    "            for j in range(self.input_depth):\n",
    "                padded_input = np.pad(input[j], self.zero_padding)\n",
    "                windowed_input = np.lib.stride_tricks.sliding_window_view(padded_input, window_shape = self.kernel)[::self.stride, ::self.stride]\n",
    "                for index_row, windowed_steps in enumerate(windowed_input):\n",
    "                    for index_col, window in enumerate(windowed_steps):\n",
    "                        self.output[i][index_row][index_col] += np.sum(np.multiply(window, self.kernels[i, j]))\n",
    "        \n",
    "        return self.output\n",
    "    \n",
    "    # def full_convolution(self, input):\n",
    "    #     output = np.zeros((input.shape[0], input.shape[1] + self.kernel[0] - 1, input.shape[2] + self.kernel[1] - 1))\n",
    "    #     for i in range(self.kernel_size):\n",
    "    #         for j in range(self.input_depth):\n",
    "    #             padded = np.pad(input[j], self.kernel[0] - 1)\n",
    "    #             windowed_input = np.lib.stride_tricks.sliding_window_view(padded, window_shape = self.kernel)[::self.stride, ::self.stride]\n",
    "    #             for index_row, windowed_steps in enumerate(windowed_input):\n",
    "    #                 for index_col, window in enumerate(windowed_steps):\n",
    "    #                     output[i][index_row][index_col] += np.sum(np.multiply(window, self.kernels[i, j]))\n",
    "    #     return output\n",
    "    \n",
    "    def backward(self, output_grads, learning_rate) -> None:\n",
    "        kernel_grads = np.zeros(self.kernels.shape)\n",
    "        input_grads = np.zeros(self.input.shape)\n",
    "        \n",
    "        for i in range(self.kernel_size):\n",
    "            padded_output_grands = np.pad(output_grads[i], self.kernel[0] - 1)\n",
    "            windowed_output_grads = np.lib.stride_tricks.sliding_window_view(padded_output_grands, window_shape = self.kernel)[::self.stride, ::self.stride]\n",
    "            for j in range(self.input_depth):\n",
    "                padded_input = np.pad(self.input[j], self.zero_padding)\n",
    "                windowed_input = np.lib.stride_tricks.sliding_window_view(padded_input, window_shape = self.kernel)[::self.stride, ::self.stride]\n",
    "                for index_row, windowed_steps in enumerate(windowed_input):\n",
    "                    for index_col, window in enumerate(windowed_steps):\n",
    "                        kernel_grads[i, j] += np.sum(np.multiply(window, self.output_grads[i]))\n",
    "                for index_row, windowed_steps in enumerate(windowed_output_grads):\n",
    "                    for index_col, window in enumerate(windowed_steps):\n",
    "                        input_grads[j] += np.sum(np.multiply(window, self.kernels[i, j]))\n",
    "        \n",
    "        self.kernels -= learning_rate * kernel_grads\n",
    "        self.biases -= learning_rate * output_grands\n",
    "        return input_grads\n",
    "        "
   ]
  },
  {
   "cell_type": "code",
   "execution_count": 30,
   "metadata": {},
   "outputs": [
    {
     "data": {
      "text/plain": [
       "array([[[2.86230373, 2.50542134, 2.49458662, 1.01776822, 1.26841541,\n",
       "         0.20424038],\n",
       "        [3.76330592, 2.99706462, 3.60759149, 2.74987823, 2.43753587,\n",
       "         0.6129791 ],\n",
       "        [2.72068352, 3.46144427, 2.38518117, 3.49465223, 1.24278969,\n",
       "         0.95643577],\n",
       "        [1.54107711, 4.53964175, 2.2953877 , 4.40118631, 2.96510085,\n",
       "         3.40824206],\n",
       "        [3.64788321, 4.19592497, 2.0339335 , 3.26320221, 4.94351762,\n",
       "         3.85197486],\n",
       "        [1.74072343, 0.85131494, 0.92254644, 1.60260985, 2.60276702,\n",
       "         3.02875193]],\n",
       "\n",
       "       [[2.15564003, 3.21147003, 1.99124253, 1.76339274, 1.32760018,\n",
       "         0.30887088],\n",
       "        [1.77417038, 2.97031062, 0.88071491, 2.44986342, 1.26273927,\n",
       "         1.56539838],\n",
       "        [3.03594679, 3.14008597, 2.53333004, 3.35681572, 2.00062388,\n",
       "         0.85350464],\n",
       "        [2.477827  , 2.46007052, 2.82245634, 2.16746758, 3.12965168,\n",
       "         2.65621944],\n",
       "        [1.71051044, 3.38964754, 0.90151582, 2.2142837 , 3.70470833,\n",
       "         3.52066916],\n",
       "        [1.73231315, 0.99348105, 0.43081888, 1.3457725 , 1.39562939,\n",
       "         2.54158326]],\n",
       "\n",
       "       [[3.36929412, 2.97030606, 4.17619257, 1.80006936, 2.50659027,\n",
       "         1.02386262],\n",
       "        [3.24754841, 4.13899016, 2.24930679, 3.01362138, 0.97648084,\n",
       "         1.41689025],\n",
       "        [3.043373  , 6.13795101, 3.69968812, 5.72106206, 2.32182927,\n",
       "         2.56954249],\n",
       "        [2.34693116, 4.31207404, 2.53258681, 3.89547781, 3.09955429,\n",
       "         3.78472842],\n",
       "        [2.77952218, 4.56977667, 2.96758357, 5.31851845, 4.5710611 ,\n",
       "         4.03218462],\n",
       "        [1.93399815, 2.15475664, 0.33588212, 2.31509134, 3.86992217,\n",
       "         3.05063348]]])"
      ]
     },
     "execution_count": 30,
     "metadata": {},
     "output_type": "execute_result"
    }
   ],
   "source": [
    "conn1 = Conv((1, 6, 6), 3, (3, 3), 1, 1)\n",
    "arr = np.array([[[1, 1, -1, 1, -1, 1],\n",
    "              [1, 1, 1, 1, 1, -1],\n",
    "              [1, -1, 1, -1, 1, -1],\n",
    "              [1, 1, 1, 1, 1, 1],\n",
    "              [1, 1, -1, 1, 1, 1],\n",
    "              [1, -1, 1, -1, 1, 1]]])\n",
    "\n",
    "conn1.forward(arr)\n",
    "\n"
   ]
  },
  {
   "cell_type": "code",
   "execution_count": 88,
   "metadata": {},
   "outputs": [],
   "source": [
    "class MaxPool():\n",
    "    def __init__(self, input_shape, depth):\n",
    "        input_depth, input_height, input_width = input_shape\n",
    "        self.input_shape = input_shape\n",
    "        self.depth = depth\n",
    "        self.input_depth = input_depth\n",
    "        self.input_height = input_height\n",
    "        self.input_width = input_width\n",
    "        self.output_shape = (input_depth, int(input_height / depth), int(input_width / depth))\n",
    "        self.kernel = (depth, depth)\n",
    "        self.indices = np.zeros(self.output_shape)\n",
    "    \n",
    "    def forward(self, input):\n",
    "        help_indices = np.arange(0, self.input_height * self.input_width).reshape((self.input_height, self.input_width))\n",
    "        output = np.zeros(self.output_shape)\n",
    "        \n",
    "        for i in range(self.input_depth):\n",
    "            windowed_input = np.lib.stride_tricks.sliding_window_view(input[i], window_shape = self.kernel)[::2, ::2]\n",
    "            windowed_indices = np.lib.stride_tricks.sliding_window_view(help_indices, window_shape = self.kernel)[::2, ::2]\n",
    "            for index_row, (w_s, w_i_s) in enumerate(zip(windowed_input, windowed_indices)):\n",
    "                for index_col, (window, idices_step) in enumerate(zip(w_s, w_i_s)):\n",
    "                    output[i][index_row][index_col] = window.max()\n",
    "                    self.indices[i][index_row][index_col] = idices_step.reshape(-1)[window.argmax()]\n",
    "        return output\n",
    "            \n",
    "        \n",
    "    \n",
    "    def backward(self):\n",
    "        pass"
   ]
  },
  {
   "cell_type": "code",
   "execution_count": 90,
   "metadata": {},
   "outputs": [
    {
     "data": {
      "text/plain": [
       "array([[[ 5.,  7.],\n",
       "        [ 9., 10.]]])"
      ]
     },
     "execution_count": 90,
     "metadata": {},
     "output_type": "execute_result"
    }
   ],
   "source": [
    "maxpool = MaxPool((1, 4, 4), 2)\n",
    "\n",
    "maxpool.forward([[[1, 2, 3, 4], \n",
    "                  [2, 3, 4, 5], \n",
    "                  [7, 10, 4, 2], \n",
    "                  [9, 8, 3, 2]]])\n",
    "\n",
    "maxpool.indices"
   ]
  },
  {
   "cell_type": "code",
   "execution_count": 100,
   "metadata": {},
   "outputs": [],
   "source": [
    "class AvgPool():\n",
    "    def __init__(self, input_shape, depth):\n",
    "        input_depth, input_height, input_width = input_shape\n",
    "        self.input_shape = input_shape\n",
    "        self.depth = depth\n",
    "        self.input_depth = input_depth\n",
    "        self.input_height = input_height\n",
    "        self.input_width = input_width\n",
    "        self.output_shape = (input_depth, int(input_height / depth), int(input_width / depth))\n",
    "        self.kernel = (depth, depth)\n",
    "    \n",
    "    def forward(self, input):\n",
    "        output = np.zeros(self.output_shape)\n",
    "        \n",
    "        for i in range(self.input_depth):\n",
    "            windowed_input = np.lib.stride_tricks.sliding_window_view(input[i], window_shape = self.kernel)[::2, ::2]\n",
    "            for index_row, w_s in enumerate(windowed_input):\n",
    "                for index_col, window in enumerate(w_s):\n",
    "                    output[i][index_row][index_col] = np.average(window)\n",
    "        return output\n",
    "    \n",
    "    def backward(self):\n",
    "        pass"
   ]
  },
  {
   "cell_type": "code",
   "execution_count": 101,
   "metadata": {},
   "outputs": [
    {
     "data": {
      "text/plain": [
       "array([[[2.  , 4.  ],\n",
       "        [8.5 , 2.75]]])"
      ]
     },
     "execution_count": 101,
     "metadata": {},
     "output_type": "execute_result"
    }
   ],
   "source": [
    "maxpool = AvgPool((1, 4, 4), 2)\n",
    "\n",
    "maxpool.forward([[[1, 2, 3, 4], \n",
    "                  [2, 3, 4, 5], \n",
    "                  [7, 10, 4, 2], \n",
    "                  [9, 8, 3, 2]]])\n"
   ]
  },
  {
   "cell_type": "code",
   "execution_count": 120,
   "metadata": {},
   "outputs": [],
   "source": [
    "class Sigmoid():\n",
    "    def forward(self, input):\n",
    "        return 1 / (1 + np.exp(np.negative(input)))\n",
    "    \n",
    "    def backward(self):\n",
    "        pass"
   ]
  },
  {
   "cell_type": "code",
   "execution_count": 154,
   "metadata": {},
   "outputs": [],
   "source": [
    "class ReLU():\n",
    "    def forward(self, input):\n",
    "        return np.maximum(input, 0)\n",
    "    \n",
    "    def backward(self):\n",
    "        pass"
   ]
  },
  {
   "cell_type": "code",
   "execution_count": 155,
   "metadata": {},
   "outputs": [
    {
     "data": {
      "text/plain": [
       "array([[[ 1,  0,  3,  4],\n",
       "        [ 2,  3,  4,  5],\n",
       "        [ 7, 10,  4,  2],\n",
       "        [ 9,  8,  3,  2]]])"
      ]
     },
     "execution_count": 155,
     "metadata": {},
     "output_type": "execute_result"
    }
   ],
   "source": [
    "relu = ReLU()\n",
    "\n",
    "relu.forward([[[1, -2, 3, 4], \n",
    "              [2, 3, 4, 5], \n",
    "              [7, 10, 4, 2], \n",
    "              [9, 8, 3, 2]]])"
   ]
  },
  {
   "cell_type": "code",
   "execution_count": 156,
   "metadata": {},
   "outputs": [],
   "source": [
    "class Reshape():\n",
    "    def __init__(self, input_shape, output_shape):\n",
    "        self.input_shape = input_shape\n",
    "        self.output_shape = output_shape\n",
    "    \n",
    "    def forward(self, input):\n",
    "        return input.reshape(self.output_shape)\n",
    "    \n",
    "    def backward(self, output_grad):\n",
    "        return output_grad.reshape(self.input_shape)"
   ]
  },
  {
   "cell_type": "code",
   "execution_count": 144,
   "metadata": {},
   "outputs": [],
   "source": [
    "class Dense():\n",
    "    def __init__(self, input_shape, output_shape):\n",
    "        self.weights = np.random.rand(output_shape, input_shape)\n",
    "        self.biases = np.random.rand(output_shape, 1)\n",
    "        \n",
    "    \n",
    "    def forward(self, input):\n",
    "        return self.weights @ input + self.biases\n",
    "    \n",
    "    def backward(self):\n",
    "        pass"
   ]
  },
  {
   "cell_type": "code",
   "execution_count": 146,
   "metadata": {},
   "outputs": [
    {
     "data": {
      "text/plain": [
       "array([[[11.60498984, 11.60498984, 11.60498984, 11.60498984,\n",
       "         11.60498984, 11.60498984],\n",
       "        [ 9.91985237,  9.91985237,  9.91985237,  9.91985237,\n",
       "          9.91985237,  9.91985237],\n",
       "        [ 8.26242806,  8.26242806,  8.26242806,  8.26242806,\n",
       "          8.26242806,  8.26242806],\n",
       "        [12.40416641, 12.40416641, 12.40416641, 12.40416641,\n",
       "         12.40416641, 12.40416641],\n",
       "        [11.96120017, 11.96120017, 11.96120017, 11.96120017,\n",
       "         11.96120017, 11.96120017],\n",
       "        [ 4.91735791,  4.91735791,  4.91735791,  4.91735791,\n",
       "          4.91735791,  4.91735791],\n",
       "        [11.09922011, 11.09922011, 11.09922011, 11.09922011,\n",
       "         11.09922011, 11.09922011],\n",
       "        [14.10072339, 14.10072339, 14.10072339, 14.10072339,\n",
       "         14.10072339, 14.10072339],\n",
       "        [14.96192524, 14.96192524, 14.96192524, 14.96192524,\n",
       "         14.96192524, 14.96192524],\n",
       "        [12.96648099, 12.96648099, 12.96648099, 12.96648099,\n",
       "         12.96648099, 12.96648099]]])"
      ]
     },
     "execution_count": 146,
     "metadata": {},
     "output_type": "execute_result"
    }
   ],
   "source": [
    "dense = Dense(6, 10)\n",
    "\n",
    "dense.forward([[[1, 1, 1, 1, 1, 1],\n",
    "                [2, 2, 2, 2, 2, 2],\n",
    "                [3, 3, 3, 3, 3, 3],\n",
    "                [4, 4, 4, 4, 4, 4],\n",
    "                [5, 5, 5, 5, 5, 5],\n",
    "                [6, 6, 6, 6, 6, 6]]])\n"
   ]
  },
  {
   "cell_type": "code",
   "execution_count": null,
   "metadata": {},
   "outputs": [],
   "source": [
    "def cross_entropy_loss(y_true, y_pred):\n",
    "    return -np.mean(y_true * np.log(y_pred) + (1 - y_pred) * np.log(1 - y_pred))"
   ]
  },
  {
   "cell_type": "code",
   "execution_count": null,
   "metadata": {},
   "outputs": [],
   "source": [
    "def softmax(X);\n",
    "    exps = np.exp(X)\n",
    "    return exps / np.sum(exps)"
   ]
  },
  {
   "cell_type": "code",
   "execution_count": 34,
   "metadata": {},
   "outputs": [
    {
     "data": {
      "text/plain": [
       "5"
      ]
     },
     "execution_count": 34,
     "metadata": {},
     "output_type": "execute_result"
    }
   ],
   "source": [
    "np.array([[2, 3], [4, 5]]).max()"
   ]
  },
  {
   "cell_type": "code",
   "execution_count": 42,
   "metadata": {},
   "outputs": [
    {
     "data": {
      "text/plain": [
       "array([[ 0,  1,  2,  3],\n",
       "       [ 4,  5,  6,  7],\n",
       "       [ 8,  9, 10, 11],\n",
       "       [12, 13, 14, 15]])"
      ]
     },
     "execution_count": 42,
     "metadata": {},
     "output_type": "execute_result"
    }
   ],
   "source": [
    "np.array([[2, 3], [4, 5]]).argmax()\n",
    "\n",
    "np.arange(0, 16).reshape((4, 4))"
   ]
  }
 ],
 "metadata": {
  "kernelspec": {
   "display_name": "Python 3.9.0 64-bit",
   "language": "python",
   "name": "python3"
  },
  "language_info": {
   "codemirror_mode": {
    "name": "ipython",
    "version": 3
   },
   "file_extension": ".py",
   "mimetype": "text/x-python",
   "name": "python",
   "nbconvert_exporter": "python",
   "pygments_lexer": "ipython3",
   "version": "3.9.0"
  },
  "orig_nbformat": 4,
  "vscode": {
   "interpreter": {
    "hash": "0b6b2516daea216eec35c18af13b5fd557154720c5fd7f6acc17815c915a1f2c"
   }
  }
 },
 "nbformat": 4,
 "nbformat_minor": 2
}
