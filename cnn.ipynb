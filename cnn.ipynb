{
 "cells": [
  {
   "cell_type": "code",
   "execution_count": 3,
   "metadata": {},
   "outputs": [],
   "source": [
    "import numpy as np"
   ]
  },
  {
   "cell_type": "code",
   "execution_count": 6,
   "metadata": {},
   "outputs": [],
   "source": [
    "class Conv:\n",
    "    def __init__(self, input_shape, kernel_size, kernel_shape = (3, 3), stride = 1, padding = 0) -> None:\n",
    "        input_depth, input_height, input_width = input_shape\n",
    "        self.kernel_size = kernel_size\n",
    "        self.input_shape = input_shape\n",
    "        self.input_depth = input_depth\n",
    "        self.kernel_shape = (kernel_size, input_depth, *kernel_shape)\n",
    "        self.output_shape = (kernel_size, int((input_height - kernel_shape[0] + 2 * padding) / stride + 1), int((input_width - kernel_shape[0] + 2 * padding) / stride + 1))\n",
    "        self.biases = np.random.rand(*self.output_shape)\n",
    "        self.kernels = np.random.rand(*self.kernel_shape)\n",
    "        self.stride = stride\n",
    "        self.zero_padding = padding\n",
    "        \n",
    "    \n",
    "    def forward(self, input) -> None:\n",
    "        self.output = np.copy(self.biases)\n",
    "        np.lib.stride_tricks.sliding_window_view(input, window_shape = self.kernel_shape)[::self.stride, ::self.stride]\n",
    "        \n",
    "        for i in range(self.kernel_size):\n",
    "            for j in range(self.input_depth):\n",
    "                pass\n",
    "    \n",
    "    def backward(self) -> None:\n",
    "        pass"
   ]
  },
  {
   "cell_type": "code",
   "execution_count": 16,
   "metadata": {},
   "outputs": [
    {
     "data": {
      "text/plain": [
       "array([[[[1, 2],\n",
       "         [5, 6]]]])"
      ]
     },
     "execution_count": 16,
     "metadata": {},
     "output_type": "execute_result"
    }
   ],
   "source": [
    "np.multiply([[2.0, 4.0, 3], [2, 3, 4]], [[4.0, 4.0, 3],[1, 1, 1]])\n",
    "\n",
    "np.lib.stride_tricks.sliding_window_view([[1, 2, 3, 4],\n",
    "                     [5, 6, 7, 8],\n",
    "                     [9, 10, 11, 12],\n",
    "                     [13, 14, 15, 16]], window_shape = (2, 2))[::3, ::3]"
   ]
  },
  {
   "cell_type": "code",
   "execution_count": 2,
   "metadata": {},
   "outputs": [
    {
     "name": "stdout",
     "output_type": "stream",
     "text": [
      "Collecting numpy\n",
      "  Downloading numpy-1.23.5-cp39-cp39-win_amd64.whl (14.7 MB)\n",
      "     --------------------------------------- 14.7/14.7 MB 26.2 MB/s eta 0:00:00\n",
      "Installing collected packages: numpy\n",
      "Successfully installed numpy-1.23.5\n"
     ]
    }
   ],
   "source": []
  }
 ],
 "metadata": {
  "kernelspec": {
   "display_name": "Python 3.9.12 ('base')",
   "language": "python",
   "name": "python3"
  },
  "language_info": {
   "codemirror_mode": {
    "name": "ipython",
    "version": 3
   },
   "file_extension": ".py",
   "mimetype": "text/x-python",
   "name": "python",
   "nbconvert_exporter": "python",
   "pygments_lexer": "ipython3",
   "version": "3.9.12"
  },
  "orig_nbformat": 4,
  "vscode": {
   "interpreter": {
    "hash": "0436af2bf793781928a9e99851ae769afd3ec6b5d31369317539edaaac1dbfbd"
   }
  }
 },
 "nbformat": 4,
 "nbformat_minor": 2
}
